{
  "nbformat": 4,
  "nbformat_minor": 0,
  "metadata": {
    "colab": {
      "provenance": [],
      "authorship_tag": "ABX9TyP2qYd9usF5RtDaEHL71tf4",
      "include_colab_link": true
    },
    "kernelspec": {
      "name": "python3",
      "display_name": "Python 3"
    },
    "language_info": {
      "name": "python"
    }
  },
  "cells": [
    {
      "cell_type": "markdown",
      "metadata": {
        "id": "view-in-github",
        "colab_type": "text"
      },
      "source": [
        "<a href=\"https://colab.research.google.com/github/rk76977/MAT-422/blob/main/3_4.ipynb\" target=\"_parent\"><img src=\"https://colab.research.google.com/assets/colab-badge.svg\" alt=\"Open In Colab\"/></a>"
      ]
    },
    {
      "cell_type": "markdown",
      "source": [
        "## **3.4. Logistic regression**"
      ],
      "metadata": {
        "id": "SCqEqA2m0-qW"
      }
    },
    {
      "cell_type": "markdown",
      "source": [
        "I learned that logistic regression applies a line onto a set of variables $X_1 \\dots X_n$ and then applies sigmoid, which gives a probability to estimate. binary variable."
      ],
      "metadata": {
        "id": "tJ_o5N-GNtmp"
      }
    },
    {
      "cell_type": "code",
      "source": [
        "###This is sigmoid\n",
        "import torch\n",
        "sigmoid = torch.nn.Sigmoid()\n",
        "\n",
        "print(f\"Sigmoid of {5} is {torch.sigmoid(torch.tensor([5]))}\")"
      ],
      "metadata": {
        "colab": {
          "base_uri": "https://localhost:8080/"
        },
        "id": "8EGiYLaqBukF",
        "outputId": "964e5279-d5dc-47f3-af04-388410599aad"
      },
      "execution_count": 8,
      "outputs": [
        {
          "output_type": "stream",
          "name": "stdout",
          "text": [
            "Sigmoid of 5 is tensor([0.9933])\n"
          ]
        }
      ]
    }
  ]
}