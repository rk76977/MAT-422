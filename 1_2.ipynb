{
  "nbformat": 4,
  "nbformat_minor": 0,
  "metadata": {
    "colab": {
      "provenance": [],
      "authorship_tag": "ABX9TyNowssl94B1Ny60LuJW2q8x",
      "include_colab_link": true
    },
    "kernelspec": {
      "name": "python3",
      "display_name": "Python 3"
    },
    "language_info": {
      "name": "python"
    }
  },
  "cells": [
    {
      "cell_type": "markdown",
      "metadata": {
        "id": "view-in-github",
        "colab_type": "text"
      },
      "source": [
        "<a href=\"https://colab.research.google.com/github/rk76977/MAT-422/blob/main/1_2.ipynb\" target=\"_parent\"><img src=\"https://colab.research.google.com/assets/colab-badge.svg\" alt=\"Open In Colab\"/></a>"
      ]
    },
    {
      "cell_type": "markdown",
      "source": [
        "## **1.2.1. Linear spaces**"
      ],
      "metadata": {
        "id": "V_iNQC-2KTq1"
      }
    },
    {
      "cell_type": "markdown",
      "source": [
        "# **Confusion**"
      ],
      "metadata": {
        "id": "HqLg66eGastC"
      }
    },
    {
      "cell_type": "markdown",
      "source": [
        "### Gaussian elimintation as an algorithm to return a basis of the row space of a matrix"
      ],
      "metadata": {
        "id": "2Su5ZBArKuMM"
      }
    },
    {
      "cell_type": "markdown",
      "source": [
        "Import numpy"
      ],
      "metadata": {
        "id": "T4p7z6KZL3x5"
      }
    },
    {
      "cell_type": "code",
      "source": [
        "import numpy as np"
      ],
      "metadata": {
        "id": "Lf8GiwjgL6Gf"
      },
      "execution_count": 1,
      "outputs": []
    },
    {
      "cell_type": "markdown",
      "source": [
        "Helper function to return matrix of given size"
      ],
      "metadata": {
        "id": "ed2ZF6C9LOQu"
      }
    },
    {
      "cell_type": "code",
      "source": [
        "def matrix(m,n):\n",
        "  return np.random.rand(m,n)"
      ],
      "metadata": {
        "id": "jSeu1C8ILdQP"
      },
      "execution_count": 2,
      "outputs": []
    },
    {
      "cell_type": "code",
      "source": [
        "matrix=matrix(4,4)"
      ],
      "metadata": {
        "id": "bzkjn_avMGqS"
      },
      "execution_count": 3,
      "outputs": []
    },
    {
      "cell_type": "markdown",
      "source": [
        "Algorithm to return basis for row space from gaussian elimination"
      ],
      "metadata": {
        "id": "kmay9ddQNCBv"
      }
    },
    {
      "cell_type": "code",
      "source": [
        "def basis_from_GE(matrix):\n",
        "  rowsize,colsize=matrix.shape\n",
        "  row=0\n",
        "  col=0\n",
        "  while(row<rowsize and col<colsize):\n",
        "\n",
        "    nonzeroindex=-1\n",
        "    for i in range(row,rowsize):\n",
        "      if(matrix[i][col] != 0):\n",
        "        nonzeroindex=i\n",
        "        i=rowsize\n",
        "        break\n",
        "    matrix[[row,nonzeroindex]]=matrix[[nonzeroindex,row]]\n",
        "    if(nonzeroindex>=0):\n",
        "      for i in range(row+1,rowsize):\n",
        "        matrix[i]=matrix[i]-(matrix[i][col]/matrix[nonzeroindex][col])*matrix[nonzeroindex]\n",
        "    col+=1\n",
        "    if(nonzeroindex>=0):\n",
        "      row+=1\n",
        "  for i in range(rowsize):\n",
        "    allzeros=True\n",
        "    for j in range(colsize):\n",
        "      if matrix[i][j] != 0:\n",
        "        allzeros=False\n",
        "    if(allzeros):\n",
        "      np.delete(matrix,i,axis=1)\n",
        "  return matrix"
      ],
      "metadata": {
        "id": "lz2JzIAlM_CZ"
      },
      "execution_count": 4,
      "outputs": []
    },
    {
      "cell_type": "code",
      "source": [
        "print(\"matrix row space:\")\n",
        "print(matrix)\n",
        "print(\"basis for row space\")\n",
        "print(basis_from_GE(matrix))"
      ],
      "metadata": {
        "colab": {
          "base_uri": "https://localhost:8080/"
        },
        "id": "Hj18QhUzPrOb",
        "outputId": "9881a4e5-037a-4071-9aea-b5766358c8d1"
      },
      "execution_count": 5,
      "outputs": [
        {
          "output_type": "stream",
          "name": "stdout",
          "text": [
            "matrix row space:\n",
            "[[0.95119954 0.01903379 0.80992993 0.28677576]\n",
            " [0.71135202 0.08524528 0.04278641 0.02960308]\n",
            " [0.20448431 0.09148092 0.1432456  0.33480938]\n",
            " [0.90917115 0.58170309 0.43785817 0.81779435]]\n",
            "basis for row space\n",
            "[[ 0.95119954  0.01903379  0.80992993  0.28677576]\n",
            " [ 0.          0.07101091 -0.56291751 -0.1848614 ]\n",
            " [ 0.          0.          0.6618816   0.5006582 ]\n",
            " [ 0.          0.          0.         -1.1139188 ]]\n"
          ]
        }
      ]
    },
    {
      "cell_type": "markdown",
      "source": [
        "The idea is that each row is a linear combination of the initial rows, and if $c_1 r_1 \\dots c_m r_m =0$, where the $r_i$'s are the members of the basis, then in the $k$th nonzero column, row $r_k$ will contain nonnegative value, so by induction $c_k =0$, so the $r_i$'s are a basis."
      ],
      "metadata": {
        "id": "hZ4weJxiaXj4"
      }
    },
    {
      "cell_type": "markdown",
      "source": [
        "## **1.2.2. Orthogonality**"
      ],
      "metadata": {
        "id": "3MUQNrp_c1ii"
      }
    },
    {
      "cell_type": "markdown",
      "source": [
        "### Verifying Cauchy in $R^n$"
      ],
      "metadata": {
        "id": "fBuh7-X-dT_v"
      }
    },
    {
      "cell_type": "markdown",
      "source": [
        "Generating $u$ and $v$ in some $R^n$ and computing $|u \\cdot v|$ and $|u| \\cdot |v|$"
      ],
      "metadata": {
        "id": "JtfM_H2Xdjgt"
      }
    },
    {
      "cell_type": "code",
      "source": [
        "n=100\n",
        "\n",
        "def dot(u,v):\n",
        "  return np.dot(u,v.T)\n",
        "def norm(u):\n",
        "  return np.linalg.norm(u)\n",
        "\n",
        "for i in range(3):\n",
        "  u=np.random.rand(1,n)\n",
        "  v=np.random.rand(1,n)\n",
        "\n",
        "  x1=norm(u)*norm(v)\n",
        "  x2=norm(dot(u,v))\n",
        "  if(x1>=x2):\n",
        "    print(\"|u||v| = {} >= {} = |u (dot) v|\".format(x1,x2))\n"
      ],
      "metadata": {
        "colab": {
          "base_uri": "https://localhost:8080/"
        },
        "id": "Xfqaohbid74g",
        "outputId": "6fd58a7b-263e-4b15-9e18-4e8751e0c360"
      },
      "execution_count": 6,
      "outputs": [
        {
          "output_type": "stream",
          "name": "stdout",
          "text": [
            "|u||v| = 31.698446658817737 >= 23.204570230755866 = |u (dot) v|\n",
            "|u||v| = 33.162911637164974 >= 23.70148293697227 = |u (dot) v|\n",
            "|u||v| = 35.68335917177873 >= 27.132777782075994 = |u (dot) v|\n"
          ]
        }
      ]
    }
  ]
}