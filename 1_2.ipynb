{
  "nbformat": 4,
  "nbformat_minor": 0,
  "metadata": {
    "colab": {
      "provenance": [],
      "authorship_tag": "ABX9TyOYfsWWz/LCQBPeOd5Vgt8r",
      "include_colab_link": true
    },
    "kernelspec": {
      "name": "python3",
      "display_name": "Python 3"
    },
    "language_info": {
      "name": "python"
    }
  },
  "cells": [
    {
      "cell_type": "markdown",
      "metadata": {
        "id": "view-in-github",
        "colab_type": "text"
      },
      "source": [
        "<a href=\"https://colab.research.google.com/github/rk76977/MAT-422/blob/main/1_2.ipynb\" target=\"_parent\"><img src=\"https://colab.research.google.com/assets/colab-badge.svg\" alt=\"Open In Colab\"/></a>"
      ]
    },
    {
      "cell_type": "markdown",
      "source": [
        "## **1.2.1. Linear spaces**"
      ],
      "metadata": {
        "id": "V_iNQC-2KTq1"
      }
    },
    {
      "cell_type": "markdown",
      "source": [
        "### Gaussian elimintation as an algorithm to return a basis of the row space of a matrix"
      ],
      "metadata": {
        "id": "2Su5ZBArKuMM"
      }
    },
    {
      "cell_type": "markdown",
      "source": [
        "Import numpy"
      ],
      "metadata": {
        "id": "T4p7z6KZL3x5"
      }
    },
    {
      "cell_type": "code",
      "source": [
        "import numpy as np"
      ],
      "metadata": {
        "id": "Lf8GiwjgL6Gf"
      },
      "execution_count": 1,
      "outputs": []
    },
    {
      "cell_type": "markdown",
      "source": [
        "Helper function to return matrix of given size"
      ],
      "metadata": {
        "id": "ed2ZF6C9LOQu"
      }
    },
    {
      "cell_type": "code",
      "source": [
        "def matrix(m,n):\n",
        "  return np.random.rand(m,n)"
      ],
      "metadata": {
        "id": "jSeu1C8ILdQP"
      },
      "execution_count": 2,
      "outputs": []
    },
    {
      "cell_type": "code",
      "source": [
        "matrix=matrix(4,4)"
      ],
      "metadata": {
        "id": "bzkjn_avMGqS"
      },
      "execution_count": 6,
      "outputs": []
    },
    {
      "cell_type": "markdown",
      "source": [
        "Algorithm to return basis for row space from gaussian elimination"
      ],
      "metadata": {
        "id": "kmay9ddQNCBv"
      }
    },
    {
      "cell_type": "code",
      "source": [
        "def basis_from_GE(matrix):\n",
        "  rowsize,colsize=matrix.shape\n",
        "  row=0\n",
        "  col=0\n",
        "  while(row<rowsize and col<colsize):\n",
        "\n",
        "    nonzeroindex=-1\n",
        "    for i in range(row,rowsize):\n",
        "      if(matrix[i][col] != 0):\n",
        "        nonzeroindex=i\n",
        "        i=rowsize\n",
        "        break\n",
        "    matrix[[row,nonzeroindex]]=matrix[[nonzeroindex,row]]\n",
        "    if(nonzeroindex>=0):\n",
        "      for i in range(row+1,rowsize):\n",
        "        matrix[i]=matrix[i]-(matrix[i][col]/matrix[nonzeroindex][col])*matrix[nonzeroindex]\n",
        "    col+=1\n",
        "    if(nonzeroindex>=0):\n",
        "      row+=1\n",
        "  for i in range(rowsize):\n",
        "    allzeros=True\n",
        "    for j in range(colsize):\n",
        "      if matrix[i][j] != 0:\n",
        "        allzeros=False\n",
        "    if(allzeros):\n",
        "      np.delete(matrix,i,axis=1)\n",
        "  return matrix"
      ],
      "metadata": {
        "id": "lz2JzIAlM_CZ"
      },
      "execution_count": 5,
      "outputs": []
    },
    {
      "cell_type": "code",
      "source": [
        "print(\"matrix row space:\")\n",
        "print(matrix)\n",
        "print(\"basis for row space\")\n",
        "print(basis_from_GE(matrix))"
      ],
      "metadata": {
        "colab": {
          "base_uri": "https://localhost:8080/"
        },
        "id": "Hj18QhUzPrOb",
        "outputId": "b66791ec-428d-4bad-e037-e8a004a9ff3d"
      },
      "execution_count": 7,
      "outputs": [
        {
          "output_type": "stream",
          "name": "stdout",
          "text": [
            "matrix row space:\n",
            "[[0.45727766 0.89541867 0.05770734 0.66831929]\n",
            " [0.04074901 0.86130132 0.79472555 0.19585897]\n",
            " [0.46441201 0.49512829 0.95307956 0.53743122]\n",
            " [0.03757624 0.66274057 0.7510168  0.68233123]]\n",
            "basis for row space\n",
            "[[ 0.45727766  0.89541867  0.05770734  0.66831929]\n",
            " [ 0.          0.78150862  0.78958312  0.13630358]\n",
            " [ 0.          0.          1.31301251 -0.06906352]\n",
            " [ 0.          0.          0.          0.5326008 ]]\n"
          ]
        }
      ]
    },
    {
      "cell_type": "markdown",
      "source": [
        "The idea is that each row is a linear combination of the initial rows, and if $c_1 r_1 \\dots c_m r_m =0$, where the $r_i$'s are the members of the basis, then in the $k$th nonzero column, row $r_k$ will contain nonnegative value, so by induction $c_k =0$, so the $r_i$'s are a basis."
      ],
      "metadata": {
        "id": "hZ4weJxiaXj4"
      }
    },
    {
      "cell_type": "markdown",
      "source": [
        "## **1.2.2. Orthogonality**"
      ],
      "metadata": {
        "id": "3MUQNrp_c1ii"
      }
    },
    {
      "cell_type": "markdown",
      "source": [
        "### Verifying Cauchy in $R^n$"
      ],
      "metadata": {
        "id": "fBuh7-X-dT_v"
      }
    },
    {
      "cell_type": "markdown",
      "source": [
        "Generating $u$ and $v$ in some $R^n$ and computing $|u \\cdot v|$ and $|u| \\cdot |v|$"
      ],
      "metadata": {
        "id": "JtfM_H2Xdjgt"
      }
    },
    {
      "cell_type": "code",
      "source": [
        "n=100\n",
        "\n",
        "def dot(u,v):\n",
        "  return np.dot(u,v.T)\n",
        "def norm(u):\n",
        "  return np.linalg.norm(u)\n",
        "\n",
        "for i in range(3):\n",
        "  u=np.random.rand(1,n)\n",
        "  v=np.random.rand(1,n)\n",
        "\n",
        "  x1=norm(u)*norm(v)\n",
        "  x2=norm(dot(u,v))\n",
        "  if(x1>=x2):\n",
        "    print(\"|u||v| = {} >= {} = |u (dot) v|\".format(x1,x2))\n"
      ],
      "metadata": {
        "colab": {
          "base_uri": "https://localhost:8080/"
        },
        "id": "Xfqaohbid74g",
        "outputId": "c4a14529-2d16-474a-ecc5-74c5aef779c9"
      },
      "execution_count": 8,
      "outputs": [
        {
          "output_type": "stream",
          "name": "stdout",
          "text": [
            "|u||v| = 30.05869748048513 >= 22.471132574776753 = |u (dot) v|\n",
            "|u||v| = 30.9495741035045 >= 22.579160213078882 = |u (dot) v|\n",
            "|u||v| = 32.62641362764654 >= 23.829166433266952 = |u (dot) v|\n"
          ]
        }
      ]
    }
  ]
}