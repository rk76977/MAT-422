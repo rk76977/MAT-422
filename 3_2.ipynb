{
  "nbformat": 4,
  "nbformat_minor": 0,
  "metadata": {
    "colab": {
      "provenance": [],
      "authorship_tag": "ABX9TyOxSIwBxgeeD4q4VSXU1VQ8",
      "include_colab_link": true
    },
    "kernelspec": {
      "name": "python3",
      "display_name": "Python 3"
    },
    "language_info": {
      "name": "python"
    }
  },
  "cells": [
    {
      "cell_type": "markdown",
      "metadata": {
        "id": "view-in-github",
        "colab_type": "text"
      },
      "source": [
        "<a href=\"https://colab.research.google.com/github/rk76977/MAT-422/blob/main/3_2.ipynb\" target=\"_parent\"><img src=\"https://colab.research.google.com/assets/colab-badge.svg\" alt=\"Open In Colab\"/></a>"
      ]
    },
    {
      "cell_type": "markdown",
      "source": [
        "## **3.2.1. Limits and continuity**"
      ],
      "metadata": {
        "id": "SCqEqA2m0-qW"
      }
    },
    {
      "cell_type": "markdown",
      "source": [
        "### Showing that $x \\cdot x$ is continuous in $\\mathbb{R}^d$"
      ],
      "metadata": {
        "id": "Guzs04GstuNx"
      }
    },
    {
      "cell_type": "markdown",
      "source": [
        "Since the product and sum of continuous functions is continuous in $\\mathbb{R}^d$, since each function $f_i(x) = x_i$ is continuous, we have ${f_1(x)}^2 + {f_2(x)}^2 + \\dots {f_n(x)}^2$ is continuous, so $x \\cdot x$ is continuous in $\\mathbb{R}^d$."
      ],
      "metadata": {
        "id": "tJ_o5N-GNtmp"
      }
    },
    {
      "cell_type": "markdown",
      "source": [
        "## **3.2.2. Derivatives**"
      ],
      "metadata": {
        "id": "WYeiccsARCdJ"
      }
    },
    {
      "cell_type": "markdown",
      "source": [
        "### Finding a gradient of $x^T P^n  x$."
      ],
      "metadata": {
        "id": "B6FOmxoDRJsK"
      }
    },
    {
      "cell_type": "markdown",
      "source": [
        "Note that we can use the example in the book, so the gradient is $(P^n+(P^n)^T)x = (P^n+(P^T)^n)$. Sorry, this is pretty similar to the text."
      ],
      "metadata": {
        "id": "Z_k3SO4gS-sq"
      }
    },
    {
      "cell_type": "markdown",
      "source": [
        "## **3.2.3. Taylor’s theorem**"
      ],
      "metadata": {
        "id": "OVj--qjC3P6U"
      }
    },
    {
      "cell_type": "markdown",
      "source": [
        "### Finding a simplified taylor approximation for $x \\cdot x + (0 \\dots x_n^2+2x_n)$ in $\\mathbb{R}^d$"
      ],
      "metadata": {
        "id": "jiWYVUNl3Uh3"
      }
    },
    {
      "cell_type": "markdown",
      "source": [
        "Note that the gradient of $(x_1^2 \\dots x_n^2 + 2x_n)^T$ at 0 is $(2x_1 \\dots 2x_n + 2)$, so if we use only the initial point and the first gradient and take $t=1$, we have $x \\cdot x \\approx (x_1 \\dots x_n+2) ∘(0) = (0 \\dots 2)$ when $x$ is near $0$. Sorry, I think this is also quite short."
      ],
      "metadata": {
        "id": "HEvcAZ4X4OgS"
      }
    }
  ]
}