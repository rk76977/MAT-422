{
  "nbformat": 4,
  "nbformat_minor": 0,
  "metadata": {
    "colab": {
      "provenance": [],
      "authorship_tag": "ABX9TyPvJOSKpect9TfRVnabj4LN",
      "include_colab_link": true
    },
    "kernelspec": {
      "name": "python3",
      "display_name": "Python 3"
    },
    "language_info": {
      "name": "python"
    }
  },
  "cells": [
    {
      "cell_type": "markdown",
      "metadata": {
        "id": "view-in-github",
        "colab_type": "text"
      },
      "source": [
        "<a href=\"https://colab.research.google.com/github/rk76977/MAT-422/blob/main/3_5%2C3_6.ipynb\" target=\"_parent\"><img src=\"https://colab.research.google.com/assets/colab-badge.svg\" alt=\"Open In Colab\"/></a>"
      ]
    },
    {
      "cell_type": "code",
      "execution_count": null,
      "metadata": {
        "id": "iVwHU1pfvfcv"
      },
      "outputs": [],
      "source": []
    },
    {
      "cell_type": "markdown",
      "source": [
        "## 3.5. K-means"
      ],
      "metadata": {
        "id": "yaYgdBNQvlTY"
      }
    },
    {
      "cell_type": "markdown",
      "source": [
        "I learned that the clustering algorithm is NP hard and that you can prove that the clustering algorithm converges because moving each point to its closest cluster centroid decreases the total sum of points to their centroids, and recalculating the means decreases the sums of each cluster's points to its centroid."
      ],
      "metadata": {
        "id": "QcGiATFWvr5L"
      }
    },
    {
      "cell_type": "code",
      "source": [
        "#This is a very basic example of clustering\n",
        "import statistics\n",
        "\n",
        "x=[1,2,3,4,5.5]\n",
        "y=[5,6]\n",
        "print(x,y)\n",
        "mean_x = statistics.mean(x)\n",
        "mean_y = statistics.mean(y)\n",
        "\n",
        "s=x[-1]\n",
        "\n",
        "if((s-mean_y)**2< (s-mean_x)**2):\n",
        "  y.append(s)\n",
        "  x.pop(-1)\n",
        "print(x,y)\n",
        "\n",
        "\n",
        "\n",
        "\n",
        "\n",
        "\n",
        "\n",
        "\n",
        "\n"
      ],
      "metadata": {
        "colab": {
          "base_uri": "https://localhost:8080/"
        },
        "id": "0uiwUBi-wlo7",
        "outputId": "fc1fbfd7-d81d-457d-c82a-4c896cfa9580"
      },
      "execution_count": null,
      "outputs": [
        {
          "output_type": "stream",
          "name": "stdout",
          "text": [
            "[1, 2, 3, 4, 5.5] [5, 6]\n",
            "[1, 2, 3, 4] [5, 6, 5.5]\n"
          ]
        }
      ]
    },
    {
      "cell_type": "markdown",
      "source": [
        "## 3.6. Support vector machine"
      ],
      "metadata": {
        "id": "YTkxPhAdz9pJ"
      }
    },
    {
      "cell_type": "markdown",
      "source": [
        "I learned that SVMs find the hyperplane that maximizes the margin between the two linearly seperable data s"
      ],
      "metadata": {
        "id": "1f9qOxYa0EHQ"
      }
    }
  ]
}