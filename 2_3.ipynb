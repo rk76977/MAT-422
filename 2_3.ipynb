{
  "nbformat": 4,
  "nbformat_minor": 0,
  "metadata": {
    "colab": {
      "provenance": [],
      "authorship_tag": "ABX9TyNM8qt7pRt3hLfOUTsV8A0K",
      "include_colab_link": true
    },
    "kernelspec": {
      "name": "python3",
      "display_name": "Python 3"
    },
    "language_info": {
      "name": "python"
    }
  },
  "cells": [
    {
      "cell_type": "markdown",
      "metadata": {
        "id": "view-in-github",
        "colab_type": "text"
      },
      "source": [
        "<a href=\"https://colab.research.google.com/github/rk76977/MAT-422/blob/main/2_3.ipynb\" target=\"_parent\"><img src=\"https://colab.research.google.com/assets/colab-badge.svg\" alt=\"Open In Colab\"/></a>"
      ]
    },
    {
      "cell_type": "markdown",
      "source": [
        "## **2.3.1 Joint probability distributions**"
      ],
      "metadata": {
        "id": "V_iNQC-2KTq1"
      }
    },
    {
      "cell_type": "markdown",
      "source": [
        "I think I learned that the concept I previously applied to proving linearity of expectation was marginal distribution. A definition of the marginal PMF is\n",
        "$m(x_i) = \\sum_{j}p(x_i,y_j) $."
      ],
      "metadata": {
        "id": "pR2JxCQ4AsJJ"
      }
    },
    {
      "cell_type": "markdown",
      "source": [
        "## **2.3.2. Correlation and dependence**"
      ],
      "metadata": {
        "id": "mGGu6Nh2jzvo"
      }
    },
    {
      "cell_type": "markdown",
      "source": [
        "### Covariance"
      ],
      "metadata": {
        "id": "79BtUCt4p0vC"
      }
    },
    {
      "cell_type": "markdown",
      "source": [
        "Since covariance is $E[(X-E[X])(Y-E[Y])]$, we can apply linearity of expectation to get\n",
        "$$\\text{Cov}(X,Y) = E[XY-XE[Y]-YE[X]+E[X]E[Y]$$\n",
        "$$=E[XY]-E[X]E[Y]-E[Y]E[X]+E[X]E[Y] $$\n",
        "$$= E[XY]-E[X]E[Y]$$"
      ],
      "metadata": {
        "id": "7NsaQjAAq_NQ"
      }
    },
    {
      "cell_type": "markdown",
      "source": [
        "One interesting application of this is that, returning to the previous infinite door game, we can show that the number of dollars at each stage $X_i$ is dependent on the dollars at stage $X_j$ with $i\\leq j$. We can find $\\text{Cov}(X,Y)$ as $E[X_iX_j]-E[X_i]E[X_j]$. We know that $E[X_i]=E[X_j]=1$, and since $X_i,X_j$ take one only the values $0$ or $1$, $E[X_iX_j]$ is $1$ times the probability that both $X_i,X_j$ are 1. This happens iff we make it all the way to $X_j$, so $E[X_iX_j]=\\frac{1}{2} ⋅ \\frac{1}{2^2} \\cdots \\frac{1}{2^j} = \\frac{1}{2^{\\frac{j(j+1)}{2}}}$, so $\\text{Cov}(X,Y) = 1 - \\frac{1}{2^{\\frac{j(j+1)}{2}}}$, so $X_i,X_j$ are dependent for $i \\neq j$"
      ],
      "metadata": {
        "id": "4gLFg-B6kMd6"
      }
    },
    {
      "cell_type": "markdown",
      "source": [],
      "metadata": {
        "id": "oKlqopT7q2tq"
      }
    },
    {
      "cell_type": "code",
      "source": [],
      "metadata": {
        "id": "Zu0Tenv7xibO"
      },
      "execution_count": null,
      "outputs": []
    },
    {
      "cell_type": "markdown",
      "source": [
        "## **2.3.3. Random samples**"
      ],
      "metadata": {
        "id": "-o3KDbYWpZoA"
      }
    },
    {
      "cell_type": "markdown",
      "source": [
        "In this section I wanted to see the distribution of dollars from the game to see if it agreed with the CLT. Interestingly, the values beyond 5 seem highly sparse/nonexistent, and I think this distribution is not close to normal despite a very large sample size, although this might be due to Python's functionality( but I am not sure). I think this is an interesting question I have not completely thought about yet, sorry."
      ],
      "metadata": {
        "id": "ZGOdCa6evXcw"
      }
    },
    {
      "cell_type": "code",
      "source": [
        "import matplotlib.pyplot as plt\n",
        "import seaborn as sns\n",
        "import random\n",
        "def game():\n",
        "  numdollars=0\n",
        "  stage=1\n",
        "  still_playing=True\n",
        "  while(still_playing):\n",
        "    numdoors = int(2**(stage))\n",
        "    doorchoice=random.randint(1,numdoors)\n",
        "    if doorchoice==1:\n",
        "      numdollars+=1\n",
        "      stage+=1\n",
        "    else:\n",
        "      still_playing=False\n",
        "  return numdollars\n",
        "\n",
        "dollar_distribution = [game() for i in range(1000000)]\n",
        "sns.histplot(dollar_distribution, bins=20)\n",
        "plt.xlabel('Dollars')\n",
        "plt.ylabel('Frequency')\n",
        "plt.show()\n"
      ],
      "metadata": {
        "id": "DpqFisP5y8LF",
        "colab": {
          "base_uri": "https://localhost:8080/",
          "height": 449
        },
        "outputId": "c967da0d-00a3-4518-9a7c-7408e164aac0"
      },
      "execution_count": 6,
      "outputs": [
        {
          "output_type": "display_data",
          "data": {
            "text/plain": [
              "<Figure size 640x480 with 1 Axes>"
            ],
            "image/png": "[encoded data removed]"
          },
          "metadata": {}
        }
      ]
    }
  ]
}