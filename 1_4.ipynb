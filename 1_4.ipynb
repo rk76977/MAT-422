{
  "nbformat": 4,
  "nbformat_minor": 0,
  "metadata": {
    "colab": {
      "provenance": [],
      "authorship_tag": "ABX9TyNrT/ATBrLdAoTu8tWCYWnJ",
      "include_colab_link": true
    },
    "kernelspec": {
      "name": "python3",
      "display_name": "Python 3"
    },
    "language_info": {
      "name": "python"
    }
  },
  "cells": [
    {
      "cell_type": "markdown",
      "metadata": {
        "id": "view-in-github",
        "colab_type": "text"
      },
      "source": [
        "<a href=\"https://colab.research.google.com/github/rk76977/MAT-422/blob/main/1_4.ipynb\" target=\"_parent\"><img src=\"https://colab.research.google.com/assets/colab-badge.svg\" alt=\"Open In Colab\"/></a>"
      ]
    },
    {
      "cell_type": "markdown",
      "source": [
        "## **1.4.1. Singular value decomposition**"
      ],
      "metadata": {
        "id": "V_iNQC-2KTq1"
      }
    },
    {
      "cell_type": "markdown",
      "source": [
        "### Algorithm for QR decomposition for vectors in $\\mathbb{R}^n$"
      ],
      "metadata": {
        "id": "pR2JxCQ4AsJJ"
      }
    },
    {
      "cell_type": "markdown",
      "source": [
        "Import numpy"
      ],
      "metadata": {
        "id": "T4p7z6KZL3x5"
      }
    },
    {
      "cell_type": "code",
      "source": [
        "import numpy as np"
      ],
      "metadata": {
        "id": "Lf8GiwjgL6Gf"
      },
      "execution_count": null,
      "outputs": []
    },
    {
      "cell_type": "markdown",
      "source": [
        "Helper function to get matrix with linearly independent columns of given size. This is done by finding an invertible square matrix that the given dimensions fit in and returning the invertible matrix over the given dimensions. This ensures the column vectors of the returned matrix are linearly independent."
      ],
      "metadata": {
        "id": "ed2ZF6C9LOQu"
      }
    },
    {
      "cell_type": "code",
      "source": [
        "def Matrix(m,n):\n",
        "  squaresize=max(m,n)\n",
        "  invertible=False\n",
        "  while(not invertible):\n",
        "    M=np.random.rand(squaresize,squaresize)\n",
        "    if(np.linalg.det(M)!=0.0):\n",
        "      return M[:m,:n]"
      ],
      "metadata": {
        "id": "jSeu1C8ILdQP"
      },
      "execution_count": null,
      "outputs": []
    },
    {
      "cell_type": "code",
      "source": [
        "matrix=Matrix(8,4)\n",
        "print(\"M: \\n {}\".format(matrix))"
      ],
      "metadata": {
        "id": "bzkjn_avMGqS",
        "colab": {
          "base_uri": "https://localhost:8080/"
        },
        "outputId": "ec9add4d-dcd4-4b96-dc1f-ed4c6f1b30aa"
      },
      "execution_count": null,
      "outputs": [
        {
          "output_type": "stream",
          "name": "stdout",
          "text": [
            "M: \n",
            " [[0.41 0.94 0.72 0.73]\n",
            " [0.44 0.24 0.98 0.09]\n",
            " [0.75 0.93 0.58 0.93]\n",
            " [0.75 0.03 0.96 0.44]\n",
            " [0.18 0.43 0.87 0.88]\n",
            " [0.84 0.5  0.05 0.09]\n",
            " [0.95 0.51 0.03 0.61]\n",
            " [0.49 0.29 0.28 0.36]]\n"
          ]
        }
      ]
    },
    {
      "cell_type": "markdown",
      "source": [
        "Helper functions for dot product and norms of column vectors"
      ],
      "metadata": {
        "id": "cPkk-Gw1nhUE"
      }
    },
    {
      "cell_type": "code",
      "source": [
        "def Dot(u,v):\n",
        "  return np.dot(u,v.T)\n",
        "def Norm(u):\n",
        "  return np.linalg.norm(u)"
      ],
      "metadata": {
        "id": "AlBqvMVAnxJ0"
      },
      "execution_count": null,
      "outputs": []
    },
    {
      "cell_type": "markdown",
      "source": [
        "Algorithm to return the QR decomposition of a given matrix, returns Q and R. This is done by applying Gram-Schmidt and keeping track of each dot product between values in the orthogonal set U and each vector V. The $i$th column of $\\mathbf{R}$ consists of the $i$ values $(u_1 \\cdot v_i), \\dots , (u_{i-1} \\cdot v_i), |u_i|$."
      ],
      "metadata": {
        "id": "kmay9ddQNCBv"
      }
    },
    {
      "cell_type": "code",
      "source": [
        "def QA_decomposition(matrix):\n",
        "  m,n = matrix.shape\n",
        "  V=[matrix[:,j] for j in range(n)]\n",
        "  U=[]\n",
        "  Q=np.zeros((m,n))\n",
        "  R=np.zeros((n,n))\n",
        "\n",
        "  for i in range(n):\n",
        "    v=V[i]\n",
        "    ###Compute the dot product of v and each u currently in U (the orthogonal basis)\n",
        "    ###And store these coefficients in a list\n",
        "    ###These i-1 coefficients  will be written in the ith column in Q\n",
        "    ###(The ith coefficient will be the norm of of u_i)\n",
        "    coefficients=[]\n",
        "    ###Compute dot products\n",
        "    ###(If i=0, no dot products are taken since U is empty)\n",
        "    for k in range(i):\n",
        "      coefficients.append(Dot(U[k],v))\n",
        "    ###Compute othogonal projection of new v onto U\n",
        "    ###(If i = 0, no subtraction occurs)\n",
        "    if(i==0):\n",
        "      u_before_norm = v\n",
        "    else:\n",
        "      u_dot_v_list=[U[i]*coefficients[i] for i in range(len(U))]\n",
        "      u_dot_v_matrix=np.column_stack(u_dot_v_list)\n",
        "\n",
        "      u_before_norm = v - np.sum(u_dot_v_matrix,axis=1)\n",
        "    norm=Norm(u_before_norm)\n",
        "\n",
        "\n",
        "    coefficients.append(norm)\n",
        "    ###Coefficients now consistents of i total values\n",
        "\n",
        "    #Compute and append u to U\n",
        "    u=u_before_norm/norm\n",
        "    U.append(u)\n",
        "\n",
        "    #Append coefficients, top down, to ith column\n",
        "    for j in range(0,i+1):\n",
        "      R[j][i]=coefficients[j]\n",
        "\n",
        "  #Collect u's as columns into Q\n",
        "  Q=np.column_stack(U)\n",
        "  return Q, R"
      ],
      "metadata": {
        "id": "lz2JzIAlM_CZ"
      },
      "execution_count": null,
      "outputs": []
    },
    {
      "cell_type": "code",
      "source": [
        "Q,R = QA_decomposition(matrix)\n",
        "np.set_printoptions(precision=2, suppress=True, linewidth=80)\n",
        "print(\"M: \\n {}\".format(matrix))\n",
        "print(\"Q: \\n {}\".format(Q))\n",
        "print(\"R: \\n {}\".format(R))"
      ],
      "metadata": {
        "colab": {
          "base_uri": "https://localhost:8080/"
        },
        "id": "Hj18QhUzPrOb",
        "outputId": "d1b62db5-5d5a-4235-8cde-4544127f17f7"
      },
      "execution_count": null,
      "outputs": [
        {
          "output_type": "stream",
          "name": "stdout",
          "text": [
            "M: \n",
            " [[0.41 0.94 0.72 0.73]\n",
            " [0.44 0.24 0.98 0.09]\n",
            " [0.75 0.93 0.58 0.93]\n",
            " [0.75 0.03 0.96 0.44]\n",
            " [0.18 0.43 0.87 0.88]\n",
            " [0.84 0.5  0.05 0.09]\n",
            " [0.95 0.51 0.03 0.61]\n",
            " [0.49 0.29 0.28 0.36]]\n",
            "Q: \n",
            " [[ 0.22  0.67  0.12 -0.22]\n",
            " [ 0.24 -0.07  0.52 -0.57]\n",
            " [ 0.41  0.41 -0.07  0.16]\n",
            " [ 0.41 -0.5   0.49  0.18]\n",
            " [ 0.1   0.31  0.45  0.5 ]\n",
            " [ 0.46 -0.08 -0.35 -0.44]\n",
            " [ 0.52 -0.15 -0.39  0.34]\n",
            " [ 0.27 -0.05 -0.01  0.1 ]]\n",
            "R: \n",
            " [[1.84 1.27 1.22 1.28]\n",
            " [0.   0.98 0.43 0.8 ]\n",
            " [0.   0.   1.38 0.4 ]\n",
            " [0.   0.   0.   0.66]]\n"
          ]
        }
      ]
    },
    {
      "cell_type": "markdown",
      "source": [
        "Comparing $\\mathbf{M}$ and $\\mathbf{Q} \\cdot \\mathbf{R}$"
      ],
      "metadata": {
        "id": "zW5Y8-Mm5DFO"
      }
    },
    {
      "cell_type": "code",
      "source": [
        "np.set_printoptions(precision=2, suppress=True, linewidth=80)\n",
        "print(\"M: \\n {}\".format(matrix))\n",
        "QR= Q @ R\n",
        "print(\"QR: \\n {}\".format(QR))"
      ],
      "metadata": {
        "colab": {
          "base_uri": "https://localhost:8080/"
        },
        "id": "DfTeOLXY4-A4",
        "outputId": "b072a3b9-c529-4085-b648-8c15de8c1fce"
      },
      "execution_count": null,
      "outputs": [
        {
          "output_type": "stream",
          "name": "stdout",
          "text": [
            "M: \n",
            " [[0.41 0.94 0.72 0.73]\n",
            " [0.44 0.24 0.98 0.09]\n",
            " [0.75 0.93 0.58 0.93]\n",
            " [0.75 0.03 0.96 0.44]\n",
            " [0.18 0.43 0.87 0.88]\n",
            " [0.84 0.5  0.05 0.09]\n",
            " [0.95 0.51 0.03 0.61]\n",
            " [0.49 0.29 0.28 0.36]]\n",
            "QR: \n",
            " [[0.41 0.94 0.72 0.73]\n",
            " [0.44 0.24 0.98 0.09]\n",
            " [0.75 0.93 0.58 0.93]\n",
            " [0.75 0.03 0.96 0.44]\n",
            " [0.18 0.43 0.87 0.88]\n",
            " [0.84 0.5  0.05 0.09]\n",
            " [0.95 0.51 0.03 0.61]\n",
            " [0.49 0.29 0.28 0.36]]\n"
          ]
        }
      ]
    },
    {
      "cell_type": "markdown",
      "source": [
        "Comparing $\\mathbf{Q}^T  \\mathbf{Q}$ and $\\mathbf{I}$"
      ],
      "metadata": {
        "id": "z3359kWmC9_D"
      }
    },
    {
      "cell_type": "code",
      "source": [
        "np.set_printoptions(precision=2, suppress=True, linewidth=80)\n",
        "I=np.eye(matrix.shape[1])\n",
        "print(\"I: \\n {}\".format(I))\n",
        "QR= Q @ R\n",
        "print(\"Q^tQ: \\n {}\".format(Q.T @ Q))"
      ],
      "metadata": {
        "colab": {
          "base_uri": "https://localhost:8080/"
        },
        "id": "5rfMsC1vDTDX",
        "outputId": "bd60ad56-adc5-4e1b-a3ce-767286410ecd"
      },
      "execution_count": null,
      "outputs": [
        {
          "output_type": "stream",
          "name": "stdout",
          "text": [
            "I: \n",
            " [[1. 0. 0. 0.]\n",
            " [0. 1. 0. 0.]\n",
            " [0. 0. 1. 0.]\n",
            " [0. 0. 0. 1.]]\n",
            "Q^tQ: \n",
            " [[ 1. -0.  0. -0.]\n",
            " [-0.  1.  0.  0.]\n",
            " [ 0.  0.  1. -0.]\n",
            " [-0.  0. -0.  1.]]\n"
          ]
        }
      ]
    },
    {
      "cell_type": "markdown",
      "source": [
        "**(Pog)**"
      ],
      "metadata": {
        "id": "Ns7M15VHD2cp"
      }
    },
    {
      "cell_type": "markdown",
      "source": [
        "## **1.3.2. Least-squares problems**"
      ],
      "metadata": {
        "id": "3MUQNrp_c1ii"
      }
    },
    {
      "cell_type": "markdown",
      "source": [
        "### Solving least squares with normal equations"
      ],
      "metadata": {
        "id": "fBuh7-X-dT_v"
      }
    },
    {
      "cell_type": "markdown",
      "source": [
        "Computing $\\mathbf{x} = (\\mathbf{A}^T \\mathbf{A})^{-1}\\mathbf{A}^T\\mathbf{y}$ and checking $|\\mathbf{A}\\mathbf{x}-\\mathbf{y}|$ (despite less numerical stability than QR decomposition)"
      ],
      "metadata": {
        "id": "JtfM_H2Xdjgt"
      }
    },
    {
      "cell_type": "code",
      "source": [
        "for i in range(10):\n",
        "  a=Matrix(30,5)\n",
        "  y=Matrix(30,1)\n",
        "  x=(np.linalg.inv(a.T @ a)) @ ((a.T @ y))\n",
        "  print(\"|Ax-y|={}\".format((Norm(a@x-y))))"
      ],
      "metadata": {
        "colab": {
          "base_uri": "https://localhost:8080/"
        },
        "id": "Xfqaohbid74g",
        "outputId": "b89cff05-09c2-4cc9-819e-69f1dcec18b6"
      },
      "execution_count": null,
      "outputs": [
        {
          "output_type": "stream",
          "name": "stdout",
          "text": [
            "|Ax-y|=1.333701010640906\n",
            "|Ax-y|=1.5109601621234359\n",
            "|Ax-y|=1.8323020899624063\n",
            "|Ax-y|=1.6630361856370015\n",
            "|Ax-y|=1.4908089670513018\n",
            "|Ax-y|=1.5235429503112203\n",
            "|Ax-y|=1.7337712265180067\n",
            "|Ax-y|=1.7029998637280133\n",
            "|Ax-y|=1.6947771205638207\n",
            "|Ax-y|=1.602404661766153\n"
          ]
        }
      ]
    },
    {
      "cell_type": "markdown",
      "source": [
        "(I think the >1 values might likely due to such numerical instability. I did not compare it to QR, though, sorry)."
      ],
      "metadata": {
        "id": "IoLhj7W_AO0m"
      }
    },
    {
      "cell_type": "markdown",
      "source": [
        "## **1.3.3. Linear regression**"
      ],
      "metadata": {
        "id": "Zr9PdBW7AkFX"
      }
    },
    {
      "cell_type": "markdown",
      "source": [
        "### Sorry, I didn't include anything extra for this section."
      ],
      "metadata": {
        "id": "zAEVxCmKAvFS"
      }
    }
  ]
}