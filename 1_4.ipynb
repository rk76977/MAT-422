{
  "nbformat": 4,
  "nbformat_minor": 0,
  "metadata": {
    "colab": {
      "provenance": [],
      "authorship_tag": "ABX9TyMamlqNCAFIXVN33oPAyrAg",
      "include_colab_link": true
    },
    "kernelspec": {
      "name": "python3",
      "display_name": "Python 3"
    },
    "language_info": {
      "name": "python"
    }
  },
  "cells": [
    {
      "cell_type": "markdown",
      "metadata": {
        "id": "view-in-github",
        "colab_type": "text"
      },
      "source": [
        "<a href=\"https://colab.research.google.com/github/rk76977/MAT-422/blob/main/1_4.ipynb\" target=\"_parent\"><img src=\"https://colab.research.google.com/assets/colab-badge.svg\" alt=\"Open In Colab\"/></a>"
      ]
    },
    {
      "cell_type": "markdown",
      "source": [
        "## **1.4.1. Singular value decomposition**"
      ],
      "metadata": {
        "id": "V_iNQC-2KTq1"
      }
    },
    {
      "cell_type": "markdown",
      "source": [
        "### Illustration of nonuniqueness of $\\mathbf{u},\\mathbf{v}$."
      ],
      "metadata": {
        "id": "pR2JxCQ4AsJJ"
      }
    },
    {
      "cell_type": "markdown",
      "source": [
        "I think I originally was going to try to write an algorithm for singular value decomposition, but I think implementing it would be too long. I think it would involve finding all positive eigenvalues of $\\mathbf{A}^T \\mathbf{A}$, then finding a basis for each corresponding null space for each eigenspace, then using gram schmidt to convert each basis into an orthonormal basis, then dividing all eigenvectors by their eigenvalue to find $\\mathbf{u}$, and then extending the basis of $\\mathbf{u}$ to $\\mathbb{R}^m$ to complete $\\mathbf{u}$ (by listing the current $\\mathbf{u}$'s and a basis of $\\mathbb{R}^m$ and linearly removing vals that are in the previous span set by reducing a matrix that is taller than wide and checking if the equations after the smaller dimension are inconsistent)."
      ],
      "metadata": {
        "id": "qYVii9pDEOmt"
      }
    },
    {
      "cell_type": "markdown",
      "source": [
        "Another concept, though, is that for the $n-r$ $\\mathbf{v}$'s that are in the eigenspace with $e=0$, (i.e, the null space), because $\\mathbf{A}\\mathbf{v} = 0$, the corresponding $\\mathbf{u}$'s are also $0$, so the list of nonzero $\\mathbf{u}$'s is extended to a basis of $\\mathbb{R}^m$ so that $\\mathbf{U}$ is orthogonal.\n",
        "\n"
      ],
      "metadata": {
        "id": "UMRVaeapG6Pd"
      }
    },
    {
      "cell_type": "markdown",
      "source": [
        "I made a simple example of swapping the $\\mathbf{u}$'s"
      ],
      "metadata": {
        "id": "zYVhgub-MrzO"
      }
    },
    {
      "cell_type": "markdown",
      "source": [
        "Import numpy"
      ],
      "metadata": {
        "id": "T4p7z6KZL3x5"
      }
    },
    {
      "cell_type": "code",
      "source": [],
      "metadata": {
        "id": "bf7BFi0QEN8K"
      },
      "execution_count": null,
      "outputs": []
    },
    {
      "cell_type": "code",
      "source": [
        "import numpy as np"
      ],
      "metadata": {
        "id": "Lf8GiwjgL6Gf"
      },
      "execution_count": 2,
      "outputs": []
    },
    {
      "cell_type": "code",
      "source": [
        "S=np.array([[2,0,0],[0,1,0],[0,0,0]])\n",
        "V_inv=np.linalg.inv(np.array([[-1,0,0],[0,0,-1],[0,1,0]]))\n",
        "for i in range(3):\n",
        "  U = np.array([[1,0,i],[0,1,i+1],[0,0,i+2]])\n",
        "  print(\"U S V^-1 = \\n\\n{}\".format(U@ S@ V_inv))\n"
      ],
      "metadata": {
        "id": "jSeu1C8ILdQP",
        "colab": {
          "base_uri": "https://localhost:8080/"
        },
        "outputId": "442f8210-066e-4ddb-9d01-17721d14ffe9"
      },
      "execution_count": 19,
      "outputs": [
        {
          "output_type": "stream",
          "name": "stdout",
          "text": [
            "U S V^-1 = \n",
            "\n",
            "[[-2.  0.  0.]\n",
            " [ 0.  0.  1.]\n",
            " [ 0.  0.  0.]]\n",
            "U S V^-1 = \n",
            "\n",
            "[[-2.  0.  0.]\n",
            " [ 0.  0.  1.]\n",
            " [ 0.  0.  0.]]\n",
            "U S V^-1 = \n",
            "\n",
            "[[-2.  0.  0.]\n",
            " [ 0.  0.  1.]\n",
            " [ 0.  0.  0.]]\n"
          ]
        }
      ]
    },
    {
      "cell_type": "markdown",
      "source": [
        "Note that, since the last column of U is not in any linear combination from S, it doesn't change the result."
      ],
      "metadata": {
        "id": "lbxQ2JI_Q1jy"
      }
    },
    {
      "cell_type": "markdown",
      "source": [
        "Sorry, for **1.4.2. Low-rank matrix approximations** and **1.4.3. Principal component analysis**, these sections look interesting but I ran out of time to include concepts on here. Sorry."
      ],
      "metadata": {
        "id": "lHvvrFzKSpp-"
      }
    }
  ]
}